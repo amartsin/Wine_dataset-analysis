{
  "nbformat": 4,
  "nbformat_minor": 0,
  "metadata": {
    "colab": {
      "name": "Tiffinia.ipynb",
      "provenance": [],
      "collapsed_sections": [],
      "authorship_tag": "ABX9TyMbIjnzjROgM70MRP083xcU",
      "include_colab_link": true
    },
    "kernelspec": {
      "name": "python3",
      "display_name": "Python 3"
    }
  },
  "cells": [
    {
      "cell_type": "markdown",
      "metadata": {
        "id": "view-in-github",
        "colab_type": "text"
      },
      "source": [
        "<a href=\"https://colab.research.google.com/github/amartsin/Wine_dataset-analysis/blob/main/White_Wine.ipynb\" target=\"_parent\"><img src=\"https://colab.research.google.com/assets/colab-badge.svg\" alt=\"Open In Colab\"/></a>"
      ]
    },
    {
      "cell_type": "code",
      "metadata": {
        "id": "zMrbZXjOJwkf"
      },
      "source": [
        "import pandas as pd\n",
        "import numpy as np\n"
      ],
      "execution_count": 1,
      "outputs": []
    },
    {
      "cell_type": "code",
      "metadata": {
        "id": "w9lKj56SKMsP"
      },
      "source": [
        "df = pd.read_csv('winequality-white.csv',sep =';')"
      ],
      "execution_count": 2,
      "outputs": []
    },
    {
      "cell_type": "code",
      "metadata": {
        "colab": {
          "base_uri": "https://localhost:8080/",
          "height": 238
        },
        "id": "kkqlt1wvKT_2",
        "outputId": "2d1e5b35-53c6-4e05-83c8-c31d771e55fc"
      },
      "source": [
        "df.head()"
      ],
      "execution_count": 3,
      "outputs": [
        {
          "output_type": "execute_result",
          "data": {
            "text/html": [
              "<div>\n",
              "<style scoped>\n",
              "    .dataframe tbody tr th:only-of-type {\n",
              "        vertical-align: middle;\n",
              "    }\n",
              "\n",
              "    .dataframe tbody tr th {\n",
              "        vertical-align: top;\n",
              "    }\n",
              "\n",
              "    .dataframe thead th {\n",
              "        text-align: right;\n",
              "    }\n",
              "</style>\n",
              "<table border=\"1\" class=\"dataframe\">\n",
              "  <thead>\n",
              "    <tr style=\"text-align: right;\">\n",
              "      <th></th>\n",
              "      <th>fixed acidity</th>\n",
              "      <th>volatile acidity</th>\n",
              "      <th>citric acid</th>\n",
              "      <th>residual sugar</th>\n",
              "      <th>chlorides</th>\n",
              "      <th>free sulfur dioxide</th>\n",
              "      <th>total sulfur dioxide</th>\n",
              "      <th>density</th>\n",
              "      <th>pH</th>\n",
              "      <th>sulphates</th>\n",
              "      <th>alcohol</th>\n",
              "      <th>quality</th>\n",
              "    </tr>\n",
              "  </thead>\n",
              "  <tbody>\n",
              "    <tr>\n",
              "      <th>0</th>\n",
              "      <td>7.0</td>\n",
              "      <td>0.27</td>\n",
              "      <td>0.36</td>\n",
              "      <td>20.7</td>\n",
              "      <td>0.045</td>\n",
              "      <td>45.0</td>\n",
              "      <td>170.0</td>\n",
              "      <td>1.0010</td>\n",
              "      <td>3.00</td>\n",
              "      <td>0.45</td>\n",
              "      <td>8.8</td>\n",
              "      <td>6</td>\n",
              "    </tr>\n",
              "    <tr>\n",
              "      <th>1</th>\n",
              "      <td>6.3</td>\n",
              "      <td>0.30</td>\n",
              "      <td>0.34</td>\n",
              "      <td>1.6</td>\n",
              "      <td>0.049</td>\n",
              "      <td>14.0</td>\n",
              "      <td>132.0</td>\n",
              "      <td>0.9940</td>\n",
              "      <td>3.30</td>\n",
              "      <td>0.49</td>\n",
              "      <td>9.5</td>\n",
              "      <td>6</td>\n",
              "    </tr>\n",
              "    <tr>\n",
              "      <th>2</th>\n",
              "      <td>8.1</td>\n",
              "      <td>0.28</td>\n",
              "      <td>0.40</td>\n",
              "      <td>6.9</td>\n",
              "      <td>0.050</td>\n",
              "      <td>30.0</td>\n",
              "      <td>97.0</td>\n",
              "      <td>0.9951</td>\n",
              "      <td>3.26</td>\n",
              "      <td>0.44</td>\n",
              "      <td>10.1</td>\n",
              "      <td>6</td>\n",
              "    </tr>\n",
              "    <tr>\n",
              "      <th>3</th>\n",
              "      <td>7.2</td>\n",
              "      <td>0.23</td>\n",
              "      <td>0.32</td>\n",
              "      <td>8.5</td>\n",
              "      <td>0.058</td>\n",
              "      <td>47.0</td>\n",
              "      <td>186.0</td>\n",
              "      <td>0.9956</td>\n",
              "      <td>3.19</td>\n",
              "      <td>0.40</td>\n",
              "      <td>9.9</td>\n",
              "      <td>6</td>\n",
              "    </tr>\n",
              "    <tr>\n",
              "      <th>4</th>\n",
              "      <td>7.2</td>\n",
              "      <td>0.23</td>\n",
              "      <td>0.32</td>\n",
              "      <td>8.5</td>\n",
              "      <td>0.058</td>\n",
              "      <td>47.0</td>\n",
              "      <td>186.0</td>\n",
              "      <td>0.9956</td>\n",
              "      <td>3.19</td>\n",
              "      <td>0.40</td>\n",
              "      <td>9.9</td>\n",
              "      <td>6</td>\n",
              "    </tr>\n",
              "  </tbody>\n",
              "</table>\n",
              "</div>"
            ],
            "text/plain": [
              "   fixed acidity  volatile acidity  citric acid  ...  sulphates  alcohol  quality\n",
              "0            7.0              0.27         0.36  ...       0.45      8.8        6\n",
              "1            6.3              0.30         0.34  ...       0.49      9.5        6\n",
              "2            8.1              0.28         0.40  ...       0.44     10.1        6\n",
              "3            7.2              0.23         0.32  ...       0.40      9.9        6\n",
              "4            7.2              0.23         0.32  ...       0.40      9.9        6\n",
              "\n",
              "[5 rows x 12 columns]"
            ]
          },
          "metadata": {
            "tags": []
          },
          "execution_count": 3
        }
      ]
    },
    {
      "cell_type": "code",
      "metadata": {
        "colab": {
          "base_uri": "https://localhost:8080/"
        },
        "id": "SEcWrkp6KYJu",
        "outputId": "5f776821-baaf-48ea-8023-1ef8ef88f518"
      },
      "source": [
        "df.info()"
      ],
      "execution_count": 4,
      "outputs": [
        {
          "output_type": "stream",
          "text": [
            "<class 'pandas.core.frame.DataFrame'>\n",
            "RangeIndex: 4898 entries, 0 to 4897\n",
            "Data columns (total 12 columns):\n",
            " #   Column                Non-Null Count  Dtype  \n",
            "---  ------                --------------  -----  \n",
            " 0   fixed acidity         4898 non-null   float64\n",
            " 1   volatile acidity      4898 non-null   float64\n",
            " 2   citric acid           4898 non-null   float64\n",
            " 3   residual sugar        4898 non-null   float64\n",
            " 4   chlorides             4898 non-null   float64\n",
            " 5   free sulfur dioxide   4898 non-null   float64\n",
            " 6   total sulfur dioxide  4898 non-null   float64\n",
            " 7   density               4898 non-null   float64\n",
            " 8   pH                    4898 non-null   float64\n",
            " 9   sulphates             4898 non-null   float64\n",
            " 10  alcohol               4898 non-null   float64\n",
            " 11  quality               4898 non-null   int64  \n",
            "dtypes: float64(11), int64(1)\n",
            "memory usage: 459.3 KB\n"
          ],
          "name": "stdout"
        }
      ]
    },
    {
      "cell_type": "code",
      "metadata": {
        "colab": {
          "base_uri": "https://localhost:8080/"
        },
        "id": "zXJTYWb5Kawf",
        "outputId": "3168fde3-0af4-4c99-9f1f-e0d2ce4affa2"
      },
      "source": [
        "len(df.index)"
      ],
      "execution_count": 5,
      "outputs": [
        {
          "output_type": "execute_result",
          "data": {
            "text/plain": [
              "4898"
            ]
          },
          "metadata": {
            "tags": []
          },
          "execution_count": 5
        }
      ]
    },
    {
      "cell_type": "code",
      "metadata": {
        "id": "y7EHRHiTKrXY"
      },
      "source": [
        "#The number of rows is 4898"
      ],
      "execution_count": 6,
      "outputs": []
    },
    {
      "cell_type": "code",
      "metadata": {
        "colab": {
          "base_uri": "https://localhost:8080/"
        },
        "id": "ChdUdXfkKx1r",
        "outputId": "ee913ee1-cfa7-43f1-d431-932c6593c443"
      },
      "source": [
        "len(df.columns) #Total number of features"
      ],
      "execution_count": 7,
      "outputs": [
        {
          "output_type": "execute_result",
          "data": {
            "text/plain": [
              "12"
            ]
          },
          "metadata": {
            "tags": []
          },
          "execution_count": 7
        }
      ]
    },
    {
      "cell_type": "code",
      "metadata": {
        "id": "cVfy7TzILTjE"
      },
      "source": [
        "class_label =df[\"quality\"]"
      ],
      "execution_count": 8,
      "outputs": []
    },
    {
      "cell_type": "code",
      "metadata": {
        "colab": {
          "base_uri": "https://localhost:8080/"
        },
        "id": "Otc2FetgQGGG",
        "outputId": "399a6c97-eef2-4e27-8fc1-12fe818bfb5d"
      },
      "source": [
        "class_label"
      ],
      "execution_count": 9,
      "outputs": [
        {
          "output_type": "execute_result",
          "data": {
            "text/plain": [
              "0       6\n",
              "1       6\n",
              "2       6\n",
              "3       6\n",
              "4       6\n",
              "       ..\n",
              "4893    6\n",
              "4894    5\n",
              "4895    6\n",
              "4896    7\n",
              "4897    6\n",
              "Name: quality, Length: 4898, dtype: int64"
            ]
          },
          "metadata": {
            "tags": []
          },
          "execution_count": 9
        }
      ]
    },
    {
      "cell_type": "code",
      "metadata": {
        "id": "ekHp2OaQQJsV"
      },
      "source": [
        "import sklearn\n",
        "from sklearn.utils import shuffle"
      ],
      "execution_count": 10,
      "outputs": []
    },
    {
      "cell_type": "code",
      "metadata": {
        "id": "BUfWOPbuQ1us"
      },
      "source": [
        "white_wine = sklearn.utils.shuffle( df,random_state=1)"
      ],
      "execution_count": 11,
      "outputs": []
    },
    {
      "cell_type": "code",
      "metadata": {
        "colab": {
          "base_uri": "https://localhost:8080/",
          "height": 238
        },
        "id": "QD83uxasSX0G",
        "outputId": "18d3b345-ff30-4121-dd96-8ceeb400e3a7"
      },
      "source": [
        "white_wine.head()"
      ],
      "execution_count": 12,
      "outputs": [
        {
          "output_type": "execute_result",
          "data": {
            "text/html": [
              "<div>\n",
              "<style scoped>\n",
              "    .dataframe tbody tr th:only-of-type {\n",
              "        vertical-align: middle;\n",
              "    }\n",
              "\n",
              "    .dataframe tbody tr th {\n",
              "        vertical-align: top;\n",
              "    }\n",
              "\n",
              "    .dataframe thead th {\n",
              "        text-align: right;\n",
              "    }\n",
              "</style>\n",
              "<table border=\"1\" class=\"dataframe\">\n",
              "  <thead>\n",
              "    <tr style=\"text-align: right;\">\n",
              "      <th></th>\n",
              "      <th>fixed acidity</th>\n",
              "      <th>volatile acidity</th>\n",
              "      <th>citric acid</th>\n",
              "      <th>residual sugar</th>\n",
              "      <th>chlorides</th>\n",
              "      <th>free sulfur dioxide</th>\n",
              "      <th>total sulfur dioxide</th>\n",
              "      <th>density</th>\n",
              "      <th>pH</th>\n",
              "      <th>sulphates</th>\n",
              "      <th>alcohol</th>\n",
              "      <th>quality</th>\n",
              "    </tr>\n",
              "  </thead>\n",
              "  <tbody>\n",
              "    <tr>\n",
              "      <th>2414</th>\n",
              "      <td>6.2</td>\n",
              "      <td>0.38</td>\n",
              "      <td>0.18</td>\n",
              "      <td>7.4</td>\n",
              "      <td>0.095</td>\n",
              "      <td>28.0</td>\n",
              "      <td>195.0</td>\n",
              "      <td>0.99773</td>\n",
              "      <td>3.53</td>\n",
              "      <td>0.71</td>\n",
              "      <td>9.2</td>\n",
              "      <td>4</td>\n",
              "    </tr>\n",
              "    <tr>\n",
              "      <th>1584</th>\n",
              "      <td>6.4</td>\n",
              "      <td>0.25</td>\n",
              "      <td>0.74</td>\n",
              "      <td>7.8</td>\n",
              "      <td>0.045</td>\n",
              "      <td>52.0</td>\n",
              "      <td>209.0</td>\n",
              "      <td>0.99560</td>\n",
              "      <td>3.21</td>\n",
              "      <td>0.42</td>\n",
              "      <td>9.2</td>\n",
              "      <td>6</td>\n",
              "    </tr>\n",
              "    <tr>\n",
              "      <th>3248</th>\n",
              "      <td>6.4</td>\n",
              "      <td>0.25</td>\n",
              "      <td>0.37</td>\n",
              "      <td>4.5</td>\n",
              "      <td>0.039</td>\n",
              "      <td>41.0</td>\n",
              "      <td>147.0</td>\n",
              "      <td>0.99210</td>\n",
              "      <td>3.18</td>\n",
              "      <td>0.40</td>\n",
              "      <td>11.1</td>\n",
              "      <td>7</td>\n",
              "    </tr>\n",
              "    <tr>\n",
              "      <th>645</th>\n",
              "      <td>6.3</td>\n",
              "      <td>0.26</td>\n",
              "      <td>0.25</td>\n",
              "      <td>7.8</td>\n",
              "      <td>0.058</td>\n",
              "      <td>44.0</td>\n",
              "      <td>166.0</td>\n",
              "      <td>0.99610</td>\n",
              "      <td>3.24</td>\n",
              "      <td>0.41</td>\n",
              "      <td>9.0</td>\n",
              "      <td>5</td>\n",
              "    </tr>\n",
              "    <tr>\n",
              "      <th>3163</th>\n",
              "      <td>7.1</td>\n",
              "      <td>0.36</td>\n",
              "      <td>0.37</td>\n",
              "      <td>4.8</td>\n",
              "      <td>0.019</td>\n",
              "      <td>39.0</td>\n",
              "      <td>114.0</td>\n",
              "      <td>0.99036</td>\n",
              "      <td>3.08</td>\n",
              "      <td>0.49</td>\n",
              "      <td>12.7</td>\n",
              "      <td>7</td>\n",
              "    </tr>\n",
              "  </tbody>\n",
              "</table>\n",
              "</div>"
            ],
            "text/plain": [
              "      fixed acidity  volatile acidity  citric acid  ...  sulphates  alcohol  quality\n",
              "2414            6.2              0.38         0.18  ...       0.71      9.2        4\n",
              "1584            6.4              0.25         0.74  ...       0.42      9.2        6\n",
              "3248            6.4              0.25         0.37  ...       0.40     11.1        7\n",
              "645             6.3              0.26         0.25  ...       0.41      9.0        5\n",
              "3163            7.1              0.36         0.37  ...       0.49     12.7        7\n",
              "\n",
              "[5 rows x 12 columns]"
            ]
          },
          "metadata": {
            "tags": []
          },
          "execution_count": 12
        }
      ]
    },
    {
      "cell_type": "code",
      "metadata": {
        "id": "O_pIR5LnSZPz"
      },
      "source": [
        "import seaborn as sns"
      ],
      "execution_count": 13,
      "outputs": []
    },
    {
      "cell_type": "code",
      "metadata": {
        "colab": {
          "base_uri": "https://localhost:8080/",
          "height": 391
        },
        "id": "JhqyL8mTSmcF",
        "outputId": "61e519a6-1902-487b-d5bb-d907022b2b63"
      },
      "source": [
        "data= white_wine[[\"pH\", \"density\"]]\n",
        "sns.pairplot(data)"
      ],
      "execution_count": 14,
      "outputs": [
        {
          "output_type": "execute_result",
          "data": {
            "text/plain": [
              "<seaborn.axisgrid.PairGrid at 0x7fa7d5d62ba8>"
            ]
          },
          "metadata": {
            "tags": []
          },
          "execution_count": 14
        },
        {
          "output_type": "display_data",
          "data": {
            "image/png": "[encoded data removed]",
            "text/plain": [
              "<Figure size 360x360 with 6 Axes>"
            ]
          },
          "metadata": {
            "tags": [],
            "needs_background": "light"
          }
        }
      ]
    },
    {
      "cell_type": "markdown",
      "metadata": {
        "id": "obqADeZcjOXS"
      },
      "source": [
        "**WE NEED TO FIRST SCALE THE DATA IN ORDER TO PERFORM PCA**"
      ]
    },
    {
      "cell_type": "code",
      "metadata": {
        "id": "OnPC5hvYTcSm"
      },
      "source": [
        "\n",
        "import sklearn\n",
        "from sklearn.preprocessing import StandardScaler\n"
      ],
      "execution_count": 15,
      "outputs": []
    },
    {
      "cell_type": "code",
      "metadata": {
        "colab": {
          "base_uri": "https://localhost:8080/"
        },
        "id": "WOqtzjUriXbg",
        "outputId": "4a698d11-6cac-458e-cc06-0026db0fe05f"
      },
      "source": [
        "scaler = StandardScaler()\n",
        "scaler.fit(white_wine)\n"
      ],
      "execution_count": 17,
      "outputs": [
        {
          "output_type": "execute_result",
          "data": {
            "text/plain": [
              "StandardScaler(copy=True, with_mean=True, with_std=True)"
            ]
          },
          "metadata": {
            "tags": []
          },
          "execution_count": 17
        }
      ]
    },
    {
      "cell_type": "code",
      "metadata": {
        "id": "5R0WVrujigN7"
      },
      "source": [
        "scaled_data = scaler.transform(white_wine)"
      ],
      "execution_count": 18,
      "outputs": []
    },
    {
      "cell_type": "code",
      "metadata": {
        "colab": {
          "base_uri": "https://localhost:8080/"
        },
        "id": "l_aVg5TIjCph",
        "outputId": "5cfe22ae-c68a-4b92-e91b-9cd67a1861bd"
      },
      "source": [
        "scaled_data"
      ],
      "execution_count": 19,
      "outputs": [
        {
          "output_type": "execute_result",
          "data": {
            "text/plain": [
              "array([[-0.77601514,  1.00967039, -1.27423152, ...,  1.92923542,\n",
              "        -1.06808001, -2.12061798],\n",
              "       [-0.53898711, -0.28021359,  3.35358273, ..., -0.61207884,\n",
              "        -1.06808001,  0.13787014],\n",
              "       [-0.53898711, -0.28021359,  0.29591974, ..., -0.78734189,\n",
              "         0.47601411,  1.2671142 ],\n",
              "       ...,\n",
              "       [ 1.83129314, -0.87554465,  0.70911744, ...,  1.40344626,\n",
              "         0.47601411, -2.12061798],\n",
              "       [-0.89452915, -0.57787912, -0.69575474, ..., -0.78734189,\n",
              "         0.15094166, -0.99137392],\n",
              "       [ 0.40912499, -0.47865728,  0.37855928, ..., -0.43681578,\n",
              "        -1.23061624,  0.13787014]])"
            ]
          },
          "metadata": {
            "tags": []
          },
          "execution_count": 19
        }
      ]
    },
    {
      "cell_type": "code",
      "metadata": {
        "id": "iSIfxApojERN"
      },
      "source": [
        "from sklearn.decomposition import PCA\n",
        "\n"
      ],
      "execution_count": 20,
      "outputs": []
    },
    {
      "cell_type": "code",
      "metadata": {
        "id": "0DabJNi9jUtA"
      },
      "source": [
        "pca = PCA(n_components=2)\n"
      ],
      "execution_count": 21,
      "outputs": []
    },
    {
      "cell_type": "code",
      "metadata": {
        "colab": {
          "base_uri": "https://localhost:8080/"
        },
        "id": "lZZ67wgijnel",
        "outputId": "d48e877a-372c-436c-cf9f-6fe58e2d0aca"
      },
      "source": [
        "pca.fit(scaled_data)"
      ],
      "execution_count": 22,
      "outputs": [
        {
          "output_type": "execute_result",
          "data": {
            "text/plain": [
              "PCA(copy=True, iterated_power='auto', n_components=2, random_state=None,\n",
              "    svd_solver='auto', tol=0.0, whiten=False)"
            ]
          },
          "metadata": {
            "tags": []
          },
          "execution_count": 22
        }
      ]
    },
    {
      "cell_type": "code",
      "metadata": {
        "id": "WEtkkFmijqFx"
      },
      "source": [
        "x_pca= pca.transform(scaled_data)\n"
      ],
      "execution_count": 23,
      "outputs": []
    },
    {
      "cell_type": "code",
      "metadata": {
        "colab": {
          "base_uri": "https://localhost:8080/"
        },
        "id": "9uT8b-UFj0bM",
        "outputId": "0c9ae467-1545-4f83-81e3-f7f5dbd0b6df"
      },
      "source": [
        "x_pca.shape #Performed PCA"
      ],
      "execution_count": 25,
      "outputs": [
        {
          "output_type": "execute_result",
          "data": {
            "text/plain": [
              "(4898, 2)"
            ]
          },
          "metadata": {
            "tags": []
          },
          "execution_count": 25
        }
      ]
    },
    {
      "cell_type": "code",
      "metadata": {
        "colab": {
          "base_uri": "https://localhost:8080/"
        },
        "id": "ATv_IBAVj2Wk",
        "outputId": "f475f91e-b714-4f38-c118-ec1ede355b25"
      },
      "source": [
        "x_pca"
      ],
      "execution_count": 27,
      "outputs": [
        {
          "output_type": "execute_result",
          "data": {
            "text/plain": [
              "array([[ 2.0525258 ,  2.41965321],\n",
              "       [ 2.04418075,  0.11747638],\n",
              "       [-0.94060592,  0.32805739],\n",
              "       ...,\n",
              "       [-0.35534272, -2.48195622],\n",
              "       [ 0.61830603,  0.87581636],\n",
              "       [ 2.91988356,  0.05178253]])"
            ]
          },
          "metadata": {
            "tags": []
          },
          "execution_count": 27
        }
      ]
    },
    {
      "cell_type": "code",
      "metadata": {
        "colab": {
          "base_uri": "https://localhost:8080/",
          "height": 405
        },
        "id": "Sggroyblkrq5",
        "outputId": "c2450f1c-4e38-4ed1-f774-4418041186eb"
      },
      "source": [
        "%matplotlib inline\n",
        "import matplotlib.pyplot as plt\n",
        "plt.figure(figsize=(8,6))\n",
        "plt.scatter(x_pca[:,0],x_pca[:,1],c =white_wine['quality'] )\n",
        "plt.xlabel('First Principle Component')\n",
        "plt.ylabel('Second Principle Component')\n"
      ],
      "execution_count": 34,
      "outputs": [
        {
          "output_type": "execute_result",
          "data": {
            "text/plain": [
              "Text(0, 0.5, 'Second Principle Component')"
            ]
          },
          "metadata": {
            "tags": []
          },
          "execution_count": 34
        },
        {
          "output_type": "display_data",
          "data": {
            "image/png": "[encoded data removed]",
            "text/plain": [
              "<Figure size 576x432 with 1 Axes>"
            ]
          },
          "metadata": {
            "tags": [],
            "needs_background": "light"
          }
        }
      ]
    },
    {
      "cell_type": "markdown",
      "metadata": {
        "id": "o_BGvm_5oJX5"
      },
      "source": [
        "**AS WE CAN SEE WE HAVE LOST MANY INFORMATION FROM THE DATA**"
      ]
    },
    {
      "cell_type": "code",
      "metadata": {
        "colab": {
          "base_uri": "https://localhost:8080/"
        },
        "id": "flifdyrymj0q",
        "outputId": "53055c93-6d93-44a3-bc70-c43c03f81be4"
      },
      "source": [
        "l = np.array(x_pca[:,0])\n",
        "m = np.array(x_pca[:,1])\n",
        "print(\"Variance of first PC is: {}\",l.var())\n",
        "print(\"Variance of second PC is: {}\",m.var())\n"
      ],
      "execution_count": 38,
      "outputs": [
        {
          "output_type": "stream",
          "text": [
            "Variance of first PC is: {} 3.346668864931432\n",
            "Variance of second PC is: {} 1.5860902952794733\n"
          ],
          "name": "stdout"
        }
      ]
    },
    {
      "cell_type": "code",
      "metadata": {
        "colab": {
          "base_uri": "https://localhost:8080/",
          "height": 453
        },
        "id": "Rq0rfBn9ovOM",
        "outputId": "b0848060-06f8-40b9-891f-20818596fb22"
      },
      "source": [
        "white_wine"
      ],
      "execution_count": 39,
      "outputs": [
        {
          "output_type": "execute_result",
          "data": {
            "text/html": [
              "<div>\n",
              "<style scoped>\n",
              "    .dataframe tbody tr th:only-of-type {\n",
              "        vertical-align: middle;\n",
              "    }\n",
              "\n",
              "    .dataframe tbody tr th {\n",
              "        vertical-align: top;\n",
              "    }\n",
              "\n",
              "    .dataframe thead th {\n",
              "        text-align: right;\n",
              "    }\n",
              "</style>\n",
              "<table border=\"1\" class=\"dataframe\">\n",
              "  <thead>\n",
              "    <tr style=\"text-align: right;\">\n",
              "      <th></th>\n",
              "      <th>fixed acidity</th>\n",
              "      <th>volatile acidity</th>\n",
              "      <th>citric acid</th>\n",
              "      <th>residual sugar</th>\n",
              "      <th>chlorides</th>\n",
              "      <th>free sulfur dioxide</th>\n",
              "      <th>total sulfur dioxide</th>\n",
              "      <th>density</th>\n",
              "      <th>pH</th>\n",
              "      <th>sulphates</th>\n",
              "      <th>alcohol</th>\n",
              "      <th>quality</th>\n",
              "    </tr>\n",
              "  </thead>\n",
              "  <tbody>\n",
              "    <tr>\n",
              "      <th>2414</th>\n",
              "      <td>6.2</td>\n",
              "      <td>0.38</td>\n",
              "      <td>0.18</td>\n",
              "      <td>7.4</td>\n",
              "      <td>0.095</td>\n",
              "      <td>28.0</td>\n",
              "      <td>195.0</td>\n",
              "      <td>0.99773</td>\n",
              "      <td>3.53</td>\n",
              "      <td>0.71</td>\n",
              "      <td>9.2</td>\n",
              "      <td>4</td>\n",
              "    </tr>\n",
              "    <tr>\n",
              "      <th>1584</th>\n",
              "      <td>6.4</td>\n",
              "      <td>0.25</td>\n",
              "      <td>0.74</td>\n",
              "      <td>7.8</td>\n",
              "      <td>0.045</td>\n",
              "      <td>52.0</td>\n",
              "      <td>209.0</td>\n",
              "      <td>0.99560</td>\n",
              "      <td>3.21</td>\n",
              "      <td>0.42</td>\n",
              "      <td>9.2</td>\n",
              "      <td>6</td>\n",
              "    </tr>\n",
              "    <tr>\n",
              "      <th>3248</th>\n",
              "      <td>6.4</td>\n",
              "      <td>0.25</td>\n",
              "      <td>0.37</td>\n",
              "      <td>4.5</td>\n",
              "      <td>0.039</td>\n",
              "      <td>41.0</td>\n",
              "      <td>147.0</td>\n",
              "      <td>0.99210</td>\n",
              "      <td>3.18</td>\n",
              "      <td>0.40</td>\n",
              "      <td>11.1</td>\n",
              "      <td>7</td>\n",
              "    </tr>\n",
              "    <tr>\n",
              "      <th>645</th>\n",
              "      <td>6.3</td>\n",
              "      <td>0.26</td>\n",
              "      <td>0.25</td>\n",
              "      <td>7.8</td>\n",
              "      <td>0.058</td>\n",
              "      <td>44.0</td>\n",
              "      <td>166.0</td>\n",
              "      <td>0.99610</td>\n",
              "      <td>3.24</td>\n",
              "      <td>0.41</td>\n",
              "      <td>9.0</td>\n",
              "      <td>5</td>\n",
              "    </tr>\n",
              "    <tr>\n",
              "      <th>3163</th>\n",
              "      <td>7.1</td>\n",
              "      <td>0.36</td>\n",
              "      <td>0.37</td>\n",
              "      <td>4.8</td>\n",
              "      <td>0.019</td>\n",
              "      <td>39.0</td>\n",
              "      <td>114.0</td>\n",
              "      <td>0.99036</td>\n",
              "      <td>3.08</td>\n",
              "      <td>0.49</td>\n",
              "      <td>12.7</td>\n",
              "      <td>7</td>\n",
              "    </tr>\n",
              "    <tr>\n",
              "      <th>...</th>\n",
              "      <td>...</td>\n",
              "      <td>...</td>\n",
              "      <td>...</td>\n",
              "      <td>...</td>\n",
              "      <td>...</td>\n",
              "      <td>...</td>\n",
              "      <td>...</td>\n",
              "      <td>...</td>\n",
              "      <td>...</td>\n",
              "      <td>...</td>\n",
              "      <td>...</td>\n",
              "      <td>...</td>\n",
              "    </tr>\n",
              "    <tr>\n",
              "      <th>2895</th>\n",
              "      <td>6.4</td>\n",
              "      <td>0.44</td>\n",
              "      <td>0.26</td>\n",
              "      <td>2.0</td>\n",
              "      <td>0.054</td>\n",
              "      <td>20.0</td>\n",
              "      <td>180.0</td>\n",
              "      <td>0.99520</td>\n",
              "      <td>3.58</td>\n",
              "      <td>0.57</td>\n",
              "      <td>10.0</td>\n",
              "      <td>5</td>\n",
              "    </tr>\n",
              "    <tr>\n",
              "      <th>2763</th>\n",
              "      <td>7.7</td>\n",
              "      <td>0.30</td>\n",
              "      <td>0.34</td>\n",
              "      <td>1.2</td>\n",
              "      <td>0.048</td>\n",
              "      <td>4.0</td>\n",
              "      <td>119.0</td>\n",
              "      <td>0.99084</td>\n",
              "      <td>3.18</td>\n",
              "      <td>0.34</td>\n",
              "      <td>12.1</td>\n",
              "      <td>6</td>\n",
              "    </tr>\n",
              "    <tr>\n",
              "      <th>905</th>\n",
              "      <td>8.4</td>\n",
              "      <td>0.19</td>\n",
              "      <td>0.42</td>\n",
              "      <td>1.6</td>\n",
              "      <td>0.047</td>\n",
              "      <td>9.0</td>\n",
              "      <td>101.0</td>\n",
              "      <td>0.99400</td>\n",
              "      <td>3.06</td>\n",
              "      <td>0.65</td>\n",
              "      <td>11.1</td>\n",
              "      <td>4</td>\n",
              "    </tr>\n",
              "    <tr>\n",
              "      <th>3980</th>\n",
              "      <td>6.1</td>\n",
              "      <td>0.22</td>\n",
              "      <td>0.25</td>\n",
              "      <td>12.1</td>\n",
              "      <td>0.035</td>\n",
              "      <td>54.0</td>\n",
              "      <td>135.0</td>\n",
              "      <td>0.99481</td>\n",
              "      <td>3.21</td>\n",
              "      <td>0.40</td>\n",
              "      <td>10.7</td>\n",
              "      <td>5</td>\n",
              "    </tr>\n",
              "    <tr>\n",
              "      <th>235</th>\n",
              "      <td>7.2</td>\n",
              "      <td>0.23</td>\n",
              "      <td>0.38</td>\n",
              "      <td>14.3</td>\n",
              "      <td>0.058</td>\n",
              "      <td>55.0</td>\n",
              "      <td>194.0</td>\n",
              "      <td>0.99790</td>\n",
              "      <td>3.09</td>\n",
              "      <td>0.44</td>\n",
              "      <td>9.0</td>\n",
              "      <td>6</td>\n",
              "    </tr>\n",
              "  </tbody>\n",
              "</table>\n",
              "<p>4898 rows × 12 columns</p>\n",
              "</div>"
            ],
            "text/plain": [
              "      fixed acidity  volatile acidity  citric acid  ...  sulphates  alcohol  quality\n",
              "2414            6.2              0.38         0.18  ...       0.71      9.2        4\n",
              "1584            6.4              0.25         0.74  ...       0.42      9.2        6\n",
              "3248            6.4              0.25         0.37  ...       0.40     11.1        7\n",
              "645             6.3              0.26         0.25  ...       0.41      9.0        5\n",
              "3163            7.1              0.36         0.37  ...       0.49     12.7        7\n",
              "...             ...               ...          ...  ...        ...      ...      ...\n",
              "2895            6.4              0.44         0.26  ...       0.57     10.0        5\n",
              "2763            7.7              0.30         0.34  ...       0.34     12.1        6\n",
              "905             8.4              0.19         0.42  ...       0.65     11.1        4\n",
              "3980            6.1              0.22         0.25  ...       0.40     10.7        5\n",
              "235             7.2              0.23         0.38  ...       0.44      9.0        6\n",
              "\n",
              "[4898 rows x 12 columns]"
            ]
          },
          "metadata": {
            "tags": []
          },
          "execution_count": 39
        }
      ]
    },
    {
      "cell_type": "markdown",
      "metadata": {
        "id": "WHIoBtvhrM47"
      },
      "source": [
        "**TRAIN TEST SPLITTING**"
      ]
    },
    {
      "cell_type": "code",
      "metadata": {
        "id": "4cnfGO2VpdE-"
      },
      "source": [
        "val_data= white_wine[:1000]"
      ],
      "execution_count": 43,
      "outputs": []
    },
    {
      "cell_type": "code",
      "metadata": {
        "id": "RFta_5TTp7G1"
      },
      "source": [
        "test_data = white_wine[3898:]"
      ],
      "execution_count": 44,
      "outputs": []
    },
    {
      "cell_type": "code",
      "metadata": {
        "id": "q9B89N4_rGJR"
      },
      "source": [
        "train_data = white_wine[1000:3898]"
      ],
      "execution_count": 45,
      "outputs": []
    },
    {
      "cell_type": "code",
      "metadata": {
        "colab": {
          "base_uri": "https://localhost:8080/",
          "height": 238
        },
        "id": "qYpArgcWrLw9",
        "outputId": "16a6891e-374e-4cf9-8f66-d5e1ad0d2907"
      },
      "source": [
        ""
      ],
      "execution_count": 47,
      "outputs": [
        {
          "output_type": "execute_result",
          "data": {
            "text/html": [
              "<div>\n",
              "<style scoped>\n",
              "    .dataframe tbody tr th:only-of-type {\n",
              "        vertical-align: middle;\n",
              "    }\n",
              "\n",
              "    .dataframe tbody tr th {\n",
              "        vertical-align: top;\n",
              "    }\n",
              "\n",
              "    .dataframe thead th {\n",
              "        text-align: right;\n",
              "    }\n",
              "</style>\n",
              "<table border=\"1\" class=\"dataframe\">\n",
              "  <thead>\n",
              "    <tr style=\"text-align: right;\">\n",
              "      <th></th>\n",
              "      <th>fixed acidity</th>\n",
              "      <th>volatile acidity</th>\n",
              "      <th>citric acid</th>\n",
              "      <th>residual sugar</th>\n",
              "      <th>chlorides</th>\n",
              "      <th>free sulfur dioxide</th>\n",
              "      <th>total sulfur dioxide</th>\n",
              "      <th>density</th>\n",
              "      <th>pH</th>\n",
              "      <th>sulphates</th>\n",
              "      <th>alcohol</th>\n",
              "      <th>quality</th>\n",
              "    </tr>\n",
              "  </thead>\n",
              "  <tbody>\n",
              "    <tr>\n",
              "      <th>2414</th>\n",
              "      <td>6.2</td>\n",
              "      <td>0.38</td>\n",
              "      <td>0.18</td>\n",
              "      <td>7.4</td>\n",
              "      <td>0.095</td>\n",
              "      <td>28.0</td>\n",
              "      <td>195.0</td>\n",
              "      <td>0.99773</td>\n",
              "      <td>3.53</td>\n",
              "      <td>0.71</td>\n",
              "      <td>9.2</td>\n",
              "      <td>4</td>\n",
              "    </tr>\n",
              "    <tr>\n",
              "      <th>1584</th>\n",
              "      <td>6.4</td>\n",
              "      <td>0.25</td>\n",
              "      <td>0.74</td>\n",
              "      <td>7.8</td>\n",
              "      <td>0.045</td>\n",
              "      <td>52.0</td>\n",
              "      <td>209.0</td>\n",
              "      <td>0.99560</td>\n",
              "      <td>3.21</td>\n",
              "      <td>0.42</td>\n",
              "      <td>9.2</td>\n",
              "      <td>6</td>\n",
              "    </tr>\n",
              "    <tr>\n",
              "      <th>3248</th>\n",
              "      <td>6.4</td>\n",
              "      <td>0.25</td>\n",
              "      <td>0.37</td>\n",
              "      <td>4.5</td>\n",
              "      <td>0.039</td>\n",
              "      <td>41.0</td>\n",
              "      <td>147.0</td>\n",
              "      <td>0.99210</td>\n",
              "      <td>3.18</td>\n",
              "      <td>0.40</td>\n",
              "      <td>11.1</td>\n",
              "      <td>7</td>\n",
              "    </tr>\n",
              "    <tr>\n",
              "      <th>645</th>\n",
              "      <td>6.3</td>\n",
              "      <td>0.26</td>\n",
              "      <td>0.25</td>\n",
              "      <td>7.8</td>\n",
              "      <td>0.058</td>\n",
              "      <td>44.0</td>\n",
              "      <td>166.0</td>\n",
              "      <td>0.99610</td>\n",
              "      <td>3.24</td>\n",
              "      <td>0.41</td>\n",
              "      <td>9.0</td>\n",
              "      <td>5</td>\n",
              "    </tr>\n",
              "    <tr>\n",
              "      <th>3163</th>\n",
              "      <td>7.1</td>\n",
              "      <td>0.36</td>\n",
              "      <td>0.37</td>\n",
              "      <td>4.8</td>\n",
              "      <td>0.019</td>\n",
              "      <td>39.0</td>\n",
              "      <td>114.0</td>\n",
              "      <td>0.99036</td>\n",
              "      <td>3.08</td>\n",
              "      <td>0.49</td>\n",
              "      <td>12.7</td>\n",
              "      <td>7</td>\n",
              "    </tr>\n",
              "  </tbody>\n",
              "</table>\n",
              "</div>"
            ],
            "text/plain": [
              "      fixed acidity  volatile acidity  citric acid  ...  sulphates  alcohol  quality\n",
              "2414            6.2              0.38         0.18  ...       0.71      9.2        4\n",
              "1584            6.4              0.25         0.74  ...       0.42      9.2        6\n",
              "3248            6.4              0.25         0.37  ...       0.40     11.1        7\n",
              "645             6.3              0.26         0.25  ...       0.41      9.0        5\n",
              "3163            7.1              0.36         0.37  ...       0.49     12.7        7\n",
              "\n",
              "[5 rows x 12 columns]"
            ]
          },
          "metadata": {
            "tags": []
          },
          "execution_count": 47
        }
      ]
    },
    {
      "cell_type": "code",
      "metadata": {
        "id": "ozJ76ZXZrdrT"
      },
      "source": [
        ""
      ],
      "execution_count": null,
      "outputs": []
    }
  ]
}